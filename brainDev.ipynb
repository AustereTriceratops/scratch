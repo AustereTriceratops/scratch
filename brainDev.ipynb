{
 "cells": [
  {
   "cell_type": "code",
   "execution_count": 1,
   "metadata": {},
   "outputs": [],
   "source": [
    "# given an array of connections between nodes [inString, outString]\n",
    "# generate all of the fully connected subset of these connections\n",
    "# constrained to a given list of valid out strings"
   ]
  },
  {
   "cell_type": "code",
   "execution_count": 16,
   "metadata": {},
   "outputs": [],
   "source": [
    "VALID_OUT_STRINGS = ['out1', 'out2', 'out3']\n",
    "VALID_IN_STRINGS = ['in1', 'in2']"
   ]
  },
  {
   "cell_type": "code",
   "execution_count": 39,
   "metadata": {},
   "outputs": [],
   "source": [
    "def backwardsFilterStep(connections, valid_outs):\n",
    "    filteredConnections = []\n",
    "    newOutStrings = []\n",
    "\n",
    "    for c in connections:\n",
    "        if c[1] in valid_outs:\n",
    "            filteredConnections.append(c)\n",
    "            shouldContinue = (c[0] != c[1]) & (c[0] not in VALID_IN_STRINGS) & (c[0] not in valid_outs)\n",
    "            if shouldContinue: newOutStrings.append(c[0])\n",
    "\n",
    "    return filteredConnections, newOutStrings\n",
    "\n",
    "\n",
    "def backwardsFilter(connections, valid_outs):\n",
    "    filtered_connections, newOutStrings = backwardsFilterStep(connections, valid_outs)\n",
    "\n",
    "    while len(newOutStrings) > 0:\n",
    "        fc, newOutStrings = backwardsFilterStep(connections, newOutStrings)\n",
    "        filtered_connections.extend(fc)\n",
    "    \n",
    "    return filtered_connections\n",
    "\n",
    "\n",
    "def forwardsFilterStep(connections, valid_ins):\n",
    "    filteredConnections = []\n",
    "    newInStrings = []\n",
    "\n",
    "    for c in connections:\n",
    "        if c[0] in valid_ins:\n",
    "            filteredConnections.append(c)\n",
    "            shouldContinue = (c[0] != c[1]) & (c[1] not in VALID_OUT_STRINGS) & (c[1] not in valid_ins)\n",
    "            if shouldContinue: newInStrings.append(c[1])\n",
    "\n",
    "    return filteredConnections, newInStrings\n",
    "\n",
    "\n",
    "def forwardsFilter(connections, valid_ins):\n",
    "    filtered_connections, newInStrings = forwardsFilterStep(connections, valid_ins)\n",
    "\n",
    "    while len(newInStrings) > 0:\n",
    "        fc, newInStrings = forwardsFilterStep(connections, newInStrings)\n",
    "        filtered_connections.extend(fc)\n",
    "    \n",
    "    return filtered_connections\n",
    "\n",
    "\n",
    "def fullFilter(connections):\n",
    "    result = backwardsFilter(connections, VALID_OUT_STRINGS)\n",
    "    print(result)\n",
    "    return forwardsFilter(result, VALID_IN_STRINGS)"
   ]
  },
  {
   "cell_type": "code",
   "execution_count": 42,
   "metadata": {},
   "outputs": [],
   "source": [
    "connections = [\n",
    "    ['in1', 'b'], ['b', 'c'], ['b', 'out3'], ['c', 'out3'],\n",
    "    ['in1', 'd'], ['d', 'e'], ['in1', 'out1'], ['l', 'm'], ['f', 'out2']\n",
    "]\n",
    "\n",
    "connections2 = [\n",
    "    ['in1', 'b'], ['b', 'c'], ['c', 'd'], ['d', 'e'], ['e', 'out1'],\n",
    "    ['in2', 'g'], ['g', 'h'], ['h', 'i'], ['j', 'out2']\n",
    "]\n",
    "\n",
    "connections3 = [\n",
    "    ['in1', 'a'], ['a', 'b'], ['b', 'out1'], ['a', 'out1'], ['in1', 'out1']\n",
    "]"
   ]
  },
  {
   "cell_type": "code",
   "execution_count": 43,
   "metadata": {},
   "outputs": [
    {
     "name": "stdout",
     "output_type": "stream",
     "text": [
      "[['b', 'out1'], ['a', 'out1'], ['in1', 'out1'], ['in1', 'a'], ['a', 'b']]\n"
     ]
    },
    {
     "data": {
      "text/plain": [
       "[['in1', 'out1'], ['in1', 'a'], ['a', 'out1'], ['a', 'b'], ['b', 'out1']]"
      ]
     },
     "execution_count": 43,
     "metadata": {},
     "output_type": "execute_result"
    }
   ],
   "source": [
    "fullFilter(connections3)"
   ]
  },
  {
   "cell_type": "code",
   "execution_count": null,
   "metadata": {},
   "outputs": [],
   "source": []
  }
 ],
 "metadata": {
  "kernelspec": {
   "display_name": "Python 3.11.2 64-bit",
   "language": "python",
   "name": "python3"
  },
  "language_info": {
   "codemirror_mode": {
    "name": "ipython",
    "version": 3
   },
   "file_extension": ".py",
   "mimetype": "text/x-python",
   "name": "python",
   "nbconvert_exporter": "python",
   "pygments_lexer": "ipython3",
   "version": "3.11.2"
  },
  "orig_nbformat": 4,
  "vscode": {
   "interpreter": {
    "hash": "aee8b7b246df8f9039afb4144a1f6fd8d2ca17a180786b69acc140d282b71a49"
   }
  }
 },
 "nbformat": 4,
 "nbformat_minor": 2
}
