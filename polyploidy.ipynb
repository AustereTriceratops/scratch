{
 "cells": [
  {
   "cell_type": "markdown",
   "metadata": {},
   "source": [
    "The code here is based on the paper Evolutionary consequences of polyploidy in prokaryotes and the origin of mitosis and meiosis\n",
    "https://biologydirect.biomedcentral.com/articles/10.1186/s13062-016-0131-8"
   ]
  },
  {
   "cell_type": "code",
   "execution_count": 44,
   "metadata": {},
   "outputs": [],
   "source": [
    "import numpy as np\n",
    "import matplotlib.pyplot as plt"
   ]
  },
  {
   "cell_type": "code",
   "execution_count": 127,
   "metadata": {},
   "outputs": [],
   "source": [
    "beneficial_mutation_rate = 0.01\n",
    "k_deleterious = 0.05\n",
    "k_beneficial = 0.1\n",
    "\n",
    "class Cell:\n",
    "    def __init__(self, initial_fitness=0.99, num_genes=100, ploidy=1):\n",
    "        self.ploidy = ploidy\n",
    "        self.num_genes = num_genes\n",
    "        self.initial_fitness = initial_fitness\n",
    "        self.genome = np.array([[initial_fitness for _ in range(num_genes)] for n in range(self.ploidy)])\n",
    "        self.fitness = None\n",
    "        self.effective_fitness = None\n",
    "    \n",
    "    def calculate_fitness(self):\n",
    "        fitness = 1\n",
    "\n",
    "        for i in range(self.num_genes):\n",
    "            gene_fitness = np.max(self.genome[:, i])\n",
    "            fitness *= gene_fitness/self.initial_fitness\n",
    "        \n",
    "        self.fitness = fitness\n",
    "    \n",
    "    def calculate_effective_fitness(self, population, s=0.3):\n",
    "        min_fitness = population.min_fitness\n",
    "        max_fitness = population.max_fitness\n",
    "        divisor = (max_fitness - min_fitness) if max_fitness - min_fitness != 0 else 1\n",
    "\n",
    "        self.effective_fitness = (1-s) * (self.fitness - min_fitness)/divisor + s * np.random.rand()\n",
    "    \n",
    "    def mutate(self, mutation_probability=0.007):\n",
    "        for i, chromosome in enumerate(self.genome):\n",
    "            for j, gene in enumerate(chromosome):\n",
    "                mut = np.random.rand()\n",
    "\n",
    "                if mut < mutation_probability:\n",
    "                    beneficial = np.random.rand()\n",
    "\n",
    "                    if beneficial < beneficial_mutation_rate:\n",
    "                        self.genome[i, j] = 1 - (1 - gene) * (1 - k_beneficial)\n",
    "                    else:\n",
    "                        self.genome[i, j] = gene * (1 - k_deleterious)\n",
    "\n",
    "    \n",
    "    def divide(self):\n",
    "        duplicated_genome = np.repeat(self.genome, 2, axis=0)\n",
    "        np.random.shuffle(duplicated_genome)\n",
    "        new_genome_1 = duplicated_genome[:self.ploidy]\n",
    "        new_genome_2 = duplicated_genome[self.ploidy: 2*self.ploidy]\n",
    "        \n",
    "        new_cell_1 = Cell(initial_fitness=self.initial_fitness, num_genes=self.num_genes, ploidy=self.ploidy)\n",
    "        new_cell_1.genome = new_genome_1\n",
    "        new_cell_2 = Cell(initial_fitness=self.initial_fitness, num_genes=self.num_genes, ploidy=self.ploidy)\n",
    "        new_cell_2.genome = new_genome_2\n",
    "\n",
    "        return (new_cell_1, new_cell_2)"
   ]
  },
  {
   "cell_type": "code",
   "execution_count": 128,
   "metadata": {},
   "outputs": [],
   "source": [
    "class Population:\n",
    "    def __init__(self, size=4000, num_genes=100, ploidy=1):\n",
    "        self.size = size\n",
    "        self.cells = [Cell(num_genes=num_genes, ploidy=ploidy) for _ in range(size)]\n",
    "        self.min_fitness = None\n",
    "        self.max_fitness = None\n",
    "    \n",
    "    def __getitem__(self, i):\n",
    "        return self.cells[i]"
   ]
  },
  {
   "cell_type": "code",
   "execution_count": 129,
   "metadata": {},
   "outputs": [],
   "source": [
    "size=1000\n",
    "ploidy=6\n",
    "num_genes=100\n",
    "mutation_probability=0.007\n",
    "\n",
    "pop = Population(size=size, num_genes=num_genes, ploidy=ploidy)\n",
    "average_fitness = []\n",
    "\n",
    "for i in range(500):\n",
    "    # cells reproduce\n",
    "    new_cells = []\n",
    "\n",
    "    for cell in pop.cells:\n",
    "        new_cell_1, new_cell_2 = cell.divide()\n",
    "        new_cells.append(new_cell_1)\n",
    "        new_cells.append(new_cell_2)\n",
    "\n",
    "    pop.cells = new_cells\n",
    "    \n",
    "    # mutate everyone\n",
    "    for cell in pop.cells:\n",
    "        cell.mutate(mutation_probability=mutation_probability)\n",
    "\n",
    "    # calculate fitnesses\n",
    "    for cell in pop.cells:\n",
    "        cell.calculate_fitness()\n",
    "\n",
    "    # kill cells with fitness below 0.5\n",
    "    filtered_cells = [cell for cell in pop.cells if cell.fitness > 0.5]\n",
    "    pop.cells = filtered_cells\n",
    "\n",
    "    # get min and max fitness to calcualte effective fitness with\n",
    "    if len(pop.cells) == 0: break\n",
    "\n",
    "    fitnesses = [cell.fitness for cell in pop.cells]\n",
    "    average_fitness.append(np.average(fitnesses))\n",
    "\n",
    "    if len(pop.cells) < 2: break\n",
    "\n",
    "    pop.min_fitness = np.min(fitnesses)\n",
    "    pop.max_fitness = np.max(fitnesses)\n",
    "\n",
    "\n",
    "    # calculate effective fitnesses\n",
    "    for cell in pop.cells:\n",
    "        cell.calculate_effective_fitness(pop)\n",
    "\n",
    "    # sort population by effective fitness select top population_size cells\n",
    "    pop.cells.sort(key=lambda x: x.effective_fitness)\n",
    "    pop.cells = pop.cells[max(len(pop.cells) - pop.size - 1, 0):]"
   ]
  },
  {
   "cell_type": "code",
   "execution_count": 130,
   "metadata": {},
   "outputs": [
    {
     "data": {
      "text/plain": [
       "[<matplotlib.lines.Line2D at 0x13fd73fd0>]"
      ]
     },
     "execution_count": 130,
     "metadata": {},
     "output_type": "execute_result"
    },
    {
     "data": {
      "image/png": "[encoded data removed]",
      "text/plain": [
       "<Figure size 640x480 with 1 Axes>"
      ]
     },
     "metadata": {},
     "output_type": "display_data"
    }
   ],
   "source": [
    "fig, ax = plt.subplots()\n",
    "\n",
    "ax.plot(average_fitness)"
   ]
  },
  {
   "cell_type": "code",
   "execution_count": null,
   "metadata": {},
   "outputs": [],
   "source": []
  }
 ],
 "metadata": {
  "kernelspec": {
   "display_name": "Python 3.11.2 64-bit",
   "language": "python",
   "name": "python3"
  },
  "language_info": {
   "codemirror_mode": {
    "name": "ipython",
    "version": 3
   },
   "file_extension": ".py",
   "mimetype": "text/x-python",
   "name": "python",
   "nbconvert_exporter": "python",
   "pygments_lexer": "ipython3",
   "version": "3.11.2"
  },
  "orig_nbformat": 4,
  "vscode": {
   "interpreter": {
    "hash": "aee8b7b246df8f9039afb4144a1f6fd8d2ca17a180786b69acc140d282b71a49"
   }
  }
 },
 "nbformat": 4,
 "nbformat_minor": 2
}
